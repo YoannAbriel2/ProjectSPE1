{
 "cells": [
  {
   "cell_type": "code",
   "execution_count": null,
   "id": "6576eb60",
   "metadata": {},
   "outputs": [
    {
     "name": "stdout",
     "output_type": "stream",
     "text": [
      "Converti : expeditionsV2.csv → expeditionsV2_comma.csv\n"
     ]
    }
   ],
   "source": [
    "import pandas as pd\n",
    "input_path  = 'expeditionsV2.csv'           \n",
    "output_path = 'expeditionsV2_comma.csv'     \n",
    "df = pd.read_csv(input_path, sep=';')\n",
    "df.to_csv(output_path, sep=',', index=False)\n",
    "print(\"OK BG\")\n"
   ]
  },
  {
   "cell_type": "code",
   "execution_count": 4,
   "id": "a6577cf4",
   "metadata": {},
   "outputs": [],
   "source": [
    "import pandas as pd\n",
    "input_path  = 'expeditionsV2_comma.csv'\n",
    "df = pd.read_csv(input_path)\n",
    "colonnes_date = ['date_expedition', 'date_livraison']\n",
    "for col in colonnes_date:\n",
    "    df[col] = pd.to_datetime(df[col], errors='coerce').dt.strftime('%d/%m/%Y')\n",
    "df.to_csv('expeditionsV2_comma.csv', index=False)"
   ]
  }
 ],
 "metadata": {
  "kernelspec": {
   "display_name": "Python 3",
   "language": "python",
   "name": "python3"
  },
  "language_info": {
   "codemirror_mode": {
    "name": "ipython",
    "version": 3
   },
   "file_extension": ".py",
   "mimetype": "text/x-python",
   "name": "python",
   "nbconvert_exporter": "python",
   "pygments_lexer": "ipython3",
   "version": "3.12.7"
  }
 },
 "nbformat": 4,
 "nbformat_minor": 5
}
