{
 "cells": [
  {
   "cell_type": "code",
   "execution_count": 6,
   "id": "fbf59851",
   "metadata": {},
   "outputs": [],
   "source": [
    "import pandas as pd\n",
    "import numpy as np\n",
    "from sklearn.model_selection import train_test_split\n",
    "from sklearn.metrics import mean_squared_error\n",
    "from sklearn.preprocessing import StandardScaler\n",
    "from sklearn.linear_model import LinearRegression\n",
    "import matplotlib.pyplot as plt\n",
    "import seaborn as sns"
   ]
  },
  {
   "cell_type": "code",
   "execution_count": 7,
   "id": "2865fdce",
   "metadata": {},
   "outputs": [
    {
     "data": {
      "text/html": [
       "<div>\n",
       "<style scoped>\n",
       "    .dataframe tbody tr th:only-of-type {\n",
       "        vertical-align: middle;\n",
       "    }\n",
       "\n",
       "    .dataframe tbody tr th {\n",
       "        vertical-align: top;\n",
       "    }\n",
       "\n",
       "    .dataframe thead th {\n",
       "        text-align: right;\n",
       "    }\n",
       "</style>\n",
       "<table border=\"1\" class=\"dataframe\">\n",
       "  <thead>\n",
       "    <tr style=\"text-align: right;\">\n",
       "      <th></th>\n",
       "      <th>id_commande</th>\n",
       "      <th>date_commande</th>\n",
       "      <th>id_produit</th>\n",
       "      <th>quantité</th>\n",
       "      <th>entrepôt</th>\n",
       "      <th>statut</th>\n",
       "      <th>date_retour</th>\n",
       "      <th>motif</th>\n",
       "    </tr>\n",
       "  </thead>\n",
       "  <tbody>\n",
       "    <tr>\n",
       "      <th>0</th>\n",
       "      <td>O000001</td>\n",
       "      <td>2024-09-03</td>\n",
       "      <td>P00413</td>\n",
       "      <td>2</td>\n",
       "      <td>Marseille</td>\n",
       "      <td>Livré</td>\n",
       "      <td>NaN</td>\n",
       "      <td>NaN</td>\n",
       "    </tr>\n",
       "    <tr>\n",
       "      <th>1</th>\n",
       "      <td>O000002</td>\n",
       "      <td>2024-11-09</td>\n",
       "      <td>P00778</td>\n",
       "      <td>15</td>\n",
       "      <td>Lyon</td>\n",
       "      <td>Expédié</td>\n",
       "      <td>NaN</td>\n",
       "      <td>NaN</td>\n",
       "    </tr>\n",
       "    <tr>\n",
       "      <th>2</th>\n",
       "      <td>O000004</td>\n",
       "      <td>2024-11-03</td>\n",
       "      <td>P00535</td>\n",
       "      <td>8</td>\n",
       "      <td>Lyon</td>\n",
       "      <td>Livré</td>\n",
       "      <td>NaN</td>\n",
       "      <td>NaN</td>\n",
       "    </tr>\n",
       "    <tr>\n",
       "      <th>3</th>\n",
       "      <td>O000006</td>\n",
       "      <td>2024-01-24</td>\n",
       "      <td>P00898</td>\n",
       "      <td>3</td>\n",
       "      <td>Paris</td>\n",
       "      <td>Livré</td>\n",
       "      <td>NaN</td>\n",
       "      <td>NaN</td>\n",
       "    </tr>\n",
       "    <tr>\n",
       "      <th>4</th>\n",
       "      <td>O000007</td>\n",
       "      <td>2024-02-15</td>\n",
       "      <td>P00445</td>\n",
       "      <td>1</td>\n",
       "      <td>Lyon</td>\n",
       "      <td>Livré</td>\n",
       "      <td>NaN</td>\n",
       "      <td>NaN</td>\n",
       "    </tr>\n",
       "  </tbody>\n",
       "</table>\n",
       "</div>"
      ],
      "text/plain": [
       "  id_commande date_commande id_produit  quantité   entrepôt   statut  \\\n",
       "0     O000001    2024-09-03     P00413         2  Marseille    Livré   \n",
       "1     O000002    2024-11-09     P00778        15       Lyon  Expédié   \n",
       "2     O000004    2024-11-03     P00535         8       Lyon    Livré   \n",
       "3     O000006    2024-01-24     P00898         3      Paris    Livré   \n",
       "4     O000007    2024-02-15     P00445         1       Lyon    Livré   \n",
       "\n",
       "  date_retour motif  \n",
       "0         NaN   NaN  \n",
       "1         NaN   NaN  \n",
       "2         NaN   NaN  \n",
       "3         NaN   NaN  \n",
       "4         NaN   NaN  "
      ]
     },
     "execution_count": 7,
     "metadata": {},
     "output_type": "execute_result"
    }
   ],
   "source": [
    "#chargement du dataset\n",
    "df = pd.read_csv('../Merged_data/commandes_merged.csv')\n",
    "\n",
    "df.head()"
   ]
  },
  {
   "cell_type": "code",
   "execution_count": null,
   "id": "14cb5cbb",
   "metadata": {},
   "outputs": [
    {
     "ename": "NameError",
     "evalue": "name 'model_selection' is not defined",
     "output_type": "error",
     "traceback": [
      "\u001b[0;31m---------------------------------------------------------------------------\u001b[0m",
      "\u001b[0;31mNameError\u001b[0m                                 Traceback (most recent call last)",
      "Cell \u001b[0;32mIn[8], line 2\u001b[0m\n\u001b[1;32m      1\u001b[0m model \u001b[38;5;241m=\u001b[39m LinearRegression()\n\u001b[0;32m----> 2\u001b[0m cv_results \u001b[38;5;241m=\u001b[39m \u001b[43mmodel_selection\u001b[49m\u001b[38;5;241m.\u001b[39mcross_val_score(model, X, y, cv\u001b[38;5;241m=\u001b[39m\u001b[38;5;241m5\u001b[39m)\n\u001b[1;32m      4\u001b[0m \u001b[38;5;28mprint\u001b[39m(\u001b[38;5;124m\"\u001b[39m\u001b[38;5;124mCross-validation scores:\u001b[39m\u001b[38;5;124m\"\u001b[39m, cv_results)\n\u001b[1;32m      5\u001b[0m \u001b[38;5;28mprint\u001b[39m(\u001b[38;5;124m\"\u001b[39m\u001b[38;5;124mMean cross-validation score:\u001b[39m\u001b[38;5;124m\"\u001b[39m, np\u001b[38;5;241m.\u001b[39mmean(cv_results))\n",
      "\u001b[0;31mNameError\u001b[0m: name 'model_selection' is not defined"
     ]
    }
   ],
   "source": [
    "model = LinearRegression()\n",
    "\n",
    "\n",
    "# Suppression des colonnes non pertinentes\n",
    "df.drop(['id', 'date', 'client_id'], axis=1, inplace=True)\n",
    "\n",
    "\n",
    "\n",
    "cv_results = model.cross_val_score(model, X, y, cv=5)\n",
    "\n",
    "print(\"Cross-validation scores:\", cv_results)\n",
    "print(\"Mean cross-validation score:\", np.mean(cv_results))\n"
   ]
  }
 ],
 "metadata": {
  "kernelspec": {
   "display_name": "Python 3",
   "language": "python",
   "name": "python3"
  },
  "language_info": {
   "codemirror_mode": {
    "name": "ipython",
    "version": 3
   },
   "file_extension": ".py",
   "mimetype": "text/x-python",
   "name": "python",
   "nbconvert_exporter": "python",
   "pygments_lexer": "ipython3",
   "version": "3.9.6"
  }
 },
 "nbformat": 4,
 "nbformat_minor": 5
}
