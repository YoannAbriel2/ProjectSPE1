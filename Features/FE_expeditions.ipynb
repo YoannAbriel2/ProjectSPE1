{
 "cells": [
  {
   "cell_type": "markdown",
   "metadata": {},
   "source": [
    "# Features Engineering\n",
    "\n",
    "Dans cette section, nous allons effectuer l'ingénierie des caractéristiques sur notre dataset. Cette étape est cruciale pour transformer et créer de nouvelles variables qui pourront améliorer les performances de nos modèles. Nous allons créer des features pertinentes, normaliser les données si nécessaire, et préparer notre dataset pour la phase de modélisation."
   ]
  },
  {
   "cell_type": "code",
   "execution_count": null,
   "metadata": {},
   "outputs": [],
   "source": [
    "import pandas as pd\n",
    "import seaborn as sns\n",
    "import matplotlib.pyplot as plt\n",
    "import numpy as np\n",
    "from sklearn.model_selection import train_test_split\n",
    "from sklearn.linear_model import LinearRegression\n",
    "from sklearn import metrics\n",
    "\n",
    "data = pd.read_csv('../RAW_data/exepeditionsV2.csv', sep=\";\")\n",
    "data.head()"
   ]
  },
  {
   "cell_type": "code",
   "execution_count": null,
   "metadata": {},
   "outputs": [],
   "source": []
  }
 ],
 "metadata": {
  "language_info": {
   "name": "python"
  }
 },
 "nbformat": 4,
 "nbformat_minor": 2
}
