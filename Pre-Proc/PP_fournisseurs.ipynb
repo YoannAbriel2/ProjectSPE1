{
 "cells": [
  {
   "cell_type": "code",
   "execution_count": 13,
   "metadata": {},
   "outputs": [],
   "source": [
    "import numpy as np\n",
    "import pandas as pd\n",
    "import matplotlib.pyplot as plt\n",
    "import seaborn as sns"
   ]
  },
  {
   "cell_type": "code",
   "execution_count": 14,
   "metadata": {},
   "outputs": [
    {
     "name": "stdout",
     "output_type": "stream",
     "text": [
      "Aperçu du fichier :\n"
     ]
    },
    {
     "data": {
      "text/html": [
       "<div>\n",
       "<style scoped>\n",
       "    .dataframe tbody tr th:only-of-type {\n",
       "        vertical-align: middle;\n",
       "    }\n",
       "\n",
       "    .dataframe tbody tr th {\n",
       "        vertical-align: top;\n",
       "    }\n",
       "\n",
       "    .dataframe thead th {\n",
       "        text-align: right;\n",
       "    }\n",
       "</style>\n",
       "<table border=\"1\" class=\"dataframe\">\n",
       "  <thead>\n",
       "    <tr style=\"text-align: right;\">\n",
       "      <th></th>\n",
       "      <th>id_fournisseur;nom_fournisseur;ville;pays;fiabilité;délai_moyen_jours</th>\n",
       "    </tr>\n",
       "  </thead>\n",
       "  <tbody>\n",
       "    <tr>\n",
       "      <th>0</th>\n",
       "      <td>S001;Lecomte et Fils;Zurich;Suisse;0.84;10</td>\n",
       "    </tr>\n",
       "    <tr>\n",
       "      <th>1</th>\n",
       "      <td>S002;Morvan;Paris;France;0.86;9</td>\n",
       "    </tr>\n",
       "    <tr>\n",
       "      <th>2</th>\n",
       "      <td>S003;Germain et Fils;Amsterdam;Pays-Bas;0.85;10</td>\n",
       "    </tr>\n",
       "    <tr>\n",
       "      <th>3</th>\n",
       "      <td>S004;Philippe;Rome;Italie;0.57;9</td>\n",
       "    </tr>\n",
       "    <tr>\n",
       "      <th>4</th>\n",
       "      <td>S005;Blanc;Dublin;Irlande;0.65;13</td>\n",
       "    </tr>\n",
       "  </tbody>\n",
       "</table>\n",
       "</div>"
      ],
      "text/plain": [
       "  id_fournisseur;nom_fournisseur;ville;pays;fiabilité;délai_moyen_jours\n",
       "0         S001;Lecomte et Fils;Zurich;Suisse;0.84;10                   \n",
       "1                    S002;Morvan;Paris;France;0.86;9                   \n",
       "2    S003;Germain et Fils;Amsterdam;Pays-Bas;0.85;10                   \n",
       "3                   S004;Philippe;Rome;Italie;0.57;9                   \n",
       "4                  S005;Blanc;Dublin;Irlande;0.65;13                   "
      ]
     },
     "metadata": {},
     "output_type": "display_data"
    },
    {
     "name": "stdout",
     "output_type": "stream",
     "text": [
      "\n",
      "Infos sur les colonnes :\n",
      "<class 'pandas.core.frame.DataFrame'>\n",
      "RangeIndex: 50 entries, 0 to 49\n",
      "Data columns (total 1 columns):\n",
      " #   Column                                                                 Non-Null Count  Dtype \n",
      "---  ------                                                                 --------------  ----- \n",
      " 0   id_fournisseur;nom_fournisseur;ville;pays;fiabilité;délai_moyen_jours  50 non-null     object\n",
      "dtypes: object(1)\n",
      "memory usage: 528.0+ bytes\n"
     ]
    },
    {
     "data": {
      "text/plain": [
       "None"
      ]
     },
     "metadata": {},
     "output_type": "display_data"
    },
    {
     "name": "stdout",
     "output_type": "stream",
     "text": [
      "\n",
      "Valeurs manquantes par colonne :\n"
     ]
    },
    {
     "data": {
      "text/plain": [
       "id_fournisseur;nom_fournisseur;ville;pays;fiabilité;délai_moyen_jours    0\n",
       "dtype: int64"
      ]
     },
     "metadata": {},
     "output_type": "display_data"
    },
    {
     "name": "stdout",
     "output_type": "stream",
     "text": [
      "\n",
      "Aperçu après nettoyage :\n"
     ]
    },
    {
     "name": "stderr",
     "output_type": "stream",
     "text": [
      "C:\\Users\\Jules\\AppData\\Local\\Temp\\ipykernel_18396\\1147204095.py:26: FutureWarning: A value is trying to be set on a copy of a DataFrame or Series through chained assignment using an inplace method.\n",
      "The behavior will change in pandas 3.0. This inplace method will never work because the intermediate object on which we are setting values always behaves as a copy.\n",
      "\n",
      "For example, when doing 'df[col].method(value, inplace=True)', try using 'df.method({col: value}, inplace=True)' or df[col] = df[col].method(value) instead, to perform the operation inplace on the original object.\n",
      "\n",
      "\n",
      "  df[col].fillna(df[col].mode()[0], inplace=True)\n"
     ]
    },
    {
     "data": {
      "text/html": [
       "<div>\n",
       "<style scoped>\n",
       "    .dataframe tbody tr th:only-of-type {\n",
       "        vertical-align: middle;\n",
       "    }\n",
       "\n",
       "    .dataframe tbody tr th {\n",
       "        vertical-align: top;\n",
       "    }\n",
       "\n",
       "    .dataframe thead th {\n",
       "        text-align: right;\n",
       "    }\n",
       "</style>\n",
       "<table border=\"1\" class=\"dataframe\">\n",
       "  <thead>\n",
       "    <tr style=\"text-align: right;\">\n",
       "      <th></th>\n",
       "      <th>id_fournisseur;nom_fournisseur;ville;pays;fiabilité;délai_moyen_jours</th>\n",
       "    </tr>\n",
       "  </thead>\n",
       "  <tbody>\n",
       "    <tr>\n",
       "      <th>0</th>\n",
       "      <td>S001;Lecomte et Fils;Zurich;Suisse;0.84;10</td>\n",
       "    </tr>\n",
       "    <tr>\n",
       "      <th>1</th>\n",
       "      <td>S002;Morvan;Paris;France;0.86;9</td>\n",
       "    </tr>\n",
       "    <tr>\n",
       "      <th>2</th>\n",
       "      <td>S003;Germain et Fils;Amsterdam;Pays-Bas;0.85;10</td>\n",
       "    </tr>\n",
       "    <tr>\n",
       "      <th>3</th>\n",
       "      <td>S004;Philippe;Rome;Italie;0.57;9</td>\n",
       "    </tr>\n",
       "    <tr>\n",
       "      <th>4</th>\n",
       "      <td>S005;Blanc;Dublin;Irlande;0.65;13</td>\n",
       "    </tr>\n",
       "  </tbody>\n",
       "</table>\n",
       "</div>"
      ],
      "text/plain": [
       "  id_fournisseur;nom_fournisseur;ville;pays;fiabilité;délai_moyen_jours\n",
       "0         S001;Lecomte et Fils;Zurich;Suisse;0.84;10                   \n",
       "1                    S002;Morvan;Paris;France;0.86;9                   \n",
       "2    S003;Germain et Fils;Amsterdam;Pays-Bas;0.85;10                   \n",
       "3                   S004;Philippe;Rome;Italie;0.57;9                   \n",
       "4                  S005;Blanc;Dublin;Irlande;0.65;13                   "
      ]
     },
     "metadata": {},
     "output_type": "display_data"
    }
   ],
   "source": [
    "# 1. Chargement du fichier\n",
    "df = pd.read_csv('../RAW_data/fournisseurs.csv')\n",
    "\n",
    "# 2. Aperçu des premières lignes\n",
    "print(\"Aperçu du fichier :\")\n",
    "display(df.head())\n",
    "\n",
    "# 3. Infos générales (types, NaNs...)\n",
    "print(\"\\nInfos sur les colonnes :\")\n",
    "display(df.info())\n",
    "\n",
    "# 4. Suppression des doublons\n",
    "df = df.drop_duplicates()\n",
    "\n",
    "# 5. Affichage des valeurs manquantes par colonne\n",
    "print(\"\\nValeurs manquantes par colonne :\")\n",
    "display(df.isnull().sum())\n",
    "\n",
    "# 6. Suppression ou remplissage des valeurs manquantes\n",
    "# Exemple : on remplit les colonnes numériques avec la moyenne\n",
    "for col in df.select_dtypes(include='number').columns:\n",
    "    df[col].fillna(df[col].mean(), inplace=True)\n",
    "\n",
    "# Exemple : on remplit les colonnes catégorielles avec la valeur la plus fréquente\n",
    "for col in df.select_dtypes(include='object').columns:\n",
    "    df[col].fillna(df[col].mode()[0], inplace=True)\n",
    "\n",
    "# 7. Vérification du nettoyage\n",
    "print(\"\\nAperçu après nettoyage :\")\n",
    "display(df.head())\n",
    "\n"
   ]
  },
  {
   "cell_type": "code",
   "execution_count": 16,
   "metadata": {},
   "outputs": [
    {
     "name": "stdout",
     "output_type": "stream",
     "text": [
      "Nombre de lignes dupliquées : 0\n",
      "✅ Aucun doublon détecté.\n"
     ]
    }
   ],
   "source": [
    "# Vérifie s'il y a des doublons (lignes identiques)\n",
    "duplicated_rows = df[df.duplicated()]\n",
    "\n",
    "# Affiche le nombre de doublons\n",
    "print(f\"Nombre de lignes dupliquées : {duplicated_rows.shape[0]}\")\n",
    "\n",
    "# Affiche les lignes dupliquées si elles existent\n",
    "if not duplicated_rows.empty:\n",
    "    print(\"Voici les doublons :\")\n",
    "    display(duplicated_rows)\n",
    "else:\n",
    "    print(\"✅ Aucun doublon détecté.\")"
   ]
  },
  {
   "cell_type": "code",
   "execution_count": 17,
   "metadata": {},
   "outputs": [
    {
     "name": "stdout",
     "output_type": "stream",
     "text": [
      "Colonnes catégorielles :\n",
      "['id_fournisseur;nom_fournisseur;ville;pays;fiabilité;délai_moyen_jours']\n",
      "\n",
      "Valeurs uniques par colonne catégorielle :\n",
      "\n",
      "--- id_fournisseur;nom_fournisseur;ville;pays;fiabilité;délai_moyen_jours ---\n",
      "id_fournisseur;nom_fournisseur;ville;pays;fiabilité;délai_moyen_jours\n",
      "S001;Lecomte et Fils;Zurich;Suisse;0.84;10                1\n",
      "S002;Morvan;Paris;France;0.86;9                           1\n",
      "S003;Germain et Fils;Amsterdam;Pays-Bas;0.85;10           1\n",
      "S004;Philippe;Rome;Italie;0.57;9                          1\n",
      "S005;Blanc;Dublin;Irlande;0.65;13                         1\n",
      "S006;Jean;Zurich;Suisse;0.68;8                            1\n",
      "S007;Carlier;Prague;République tchèque;0.9;9              1\n",
      "S008;Gaillard S.A.;Berlin;Allemagne;0.64;7                1\n",
      "S009;Fischer;Lisbonne;Portugal;0.61;9                     1\n",
      "S010;Pelletier;Paris;France;0.98;3                        1\n",
      "S011;Leblanc;Rome;Italie;0.5;3                            1\n",
      "S012;Lucas;Stockholm;Suède;1.0;11                         1\n",
      "S013;Gautier;Paris;France;0.84;7                          1\n",
      "S014;Guillon;Rome;Italie;0.91;7                           1\n",
      "S015;Renault;Zurich;Suisse;0.65;5                         1\n",
      "S016;Morel;Stockholm;Suède;0.51;7                         1\n",
      "S017;Bodin;Rome;Italie;0.87;5                             1\n",
      "S018;Guérin;Copenhague;Danemark;0.92;11                   1\n",
      "S019;Leduc;Oslo;Norvège;0.87;11                           1\n",
      "S020;Baudry;Paris;France;0.57;8                           1\n",
      "S021;Petitjean Andre SA;Oslo;Norvège;0.88;3               1\n",
      "S022;Langlois Vallée SA;Dublin;Irlande;0.88;9             1\n",
      "S023;Albert;Bruxelles;Belgique;0.83;9                     1\n",
      "S024;Da Silva;Madrid;Espagne;0.88;12                      1\n",
      "S025;Techer SA;Varsovie;Pologne;0.92;12                   1\n",
      "S026;Bourdon;Bruxelles;Belgique;0.81;6                    1\n",
      "S027;Rodrigues Payet S.A.R.L.;Berlin;Allemagne;0.54;10    1\n",
      "S028;Delattre Blot S.A.;Berlin;Allemagne;0.74;8           1\n",
      "S029;Fontaine Lopes S.A.;Helsinki;Finlande;0.54;6         1\n",
      "S030;Delaunay;Copenhague;Danemark;0.7;6                   1\n",
      "S031;Faure S.A.R.L.;Oslo;Norvège;0.7;4                    1\n",
      "S032;Munoz SA;Dublin;Irlande;0.53;4                       1\n",
      "S033;Mercier Dupuy S.A.S.;Stockholm;Suède;0.67;14         1\n",
      "S034;Bertrand S.A.;Varsovie;Pologne;0.56;6                1\n",
      "S035;Laine;Lisbonne;Portugal;0.9;7                        1\n",
      "S036;Moreau Dubois S.A.S.;Stockholm;Suède;0.97;10         1\n",
      "S037;Charles SARL;Helsinki;Finlande;0.54;8                1\n",
      "S038;Laurent Boyer S.A.R.L.;Copenhague;Danemark;0.98;6    1\n",
      "S039;Rocher;Helsinki;Finlande;0.76;13                     1\n",
      "S040;Fabre SA;Copenhague;Danemark;0.65;9                  1\n",
      "S041;Lemaître De Sousa SA;Dublin;Irlande;0.54;10          1\n",
      "S042;Caron;Paris;France;0.75;4                            1\n",
      "S043;Klein SA;Rome;Italie;0.9;14                          1\n",
      "S044;Lopes;Amsterdam;Pays-Bas;0.85;9                      1\n",
      "S045;Lagarde;Berlin;Allemagne;0.53;4                      1\n",
      "S046;Roche;Rome;Italie;0.54;4                             1\n",
      "S047;Duhamel;Berlin;Allemagne;0.7;10                      1\n",
      "S048;Lecomte;Amsterdam;Pays-Bas;0.65;4                    1\n",
      "S049;Godard SA;Zurich;Suisse;0.62;13                      1\n",
      "S050;Carlier SA;Bruxelles;Belgique;0.64;11                1\n",
      "Name: count, dtype: int64\n",
      "------------------------------\n"
     ]
    }
   ],
   "source": [
    "# 1. Affiche les colonnes catégorielles (object ou category)\n",
    "cat_cols = df.select_dtypes(include=['object', 'category']).columns\n",
    "print(\"Colonnes catégorielles :\")\n",
    "print(list(cat_cols))\n",
    "\n",
    "# 2. Affiche les valeurs uniques pour chaque colonne catégorielle\n",
    "print(\"\\nValeurs uniques par colonne catégorielle :\")\n",
    "for col in cat_cols:\n",
    "    print(f\"\\n--- {col} ---\")\n",
    "    print(df[col].value_counts())\n",
    "    print(\"-\" * 30)"
   ]
  },
  {
   "cell_type": "code",
   "execution_count": 18,
   "metadata": {},
   "outputs": [
    {
     "name": "stdout",
     "output_type": "stream",
     "text": [
      "🎯 Colonnes catégorielles : ['id_fournisseur;nom_fournisseur;ville;pays;fiabilité;délai_moyen_jours']\n",
      "\n",
      "🔸 id_fournisseur;nom_fournisseur;ville;pays;fiabilité;délai_moyen_jours - Top catégories\n",
      "id_fournisseur;nom_fournisseur;ville;pays;fiabilité;délai_moyen_jours\n",
      "S001;Lecomte et Fils;Zurich;Suisse;0.84;10         1\n",
      "S002;Morvan;Paris;France;0.86;9                    1\n",
      "S003;Germain et Fils;Amsterdam;Pays-Bas;0.85;10    1\n",
      "S004;Philippe;Rome;Italie;0.57;9                   1\n",
      "S005;Blanc;Dublin;Irlande;0.65;13                  1\n",
      "S006;Jean;Zurich;Suisse;0.68;8                     1\n",
      "S007;Carlier;Prague;République tchèque;0.9;9       1\n",
      "S008;Gaillard S.A.;Berlin;Allemagne;0.64;7         1\n",
      "S009;Fischer;Lisbonne;Portugal;0.61;9              1\n",
      "S010;Pelletier;Paris;France;0.98;3                 1\n",
      "Name: count, dtype: int64\n"
     ]
    }
   ],
   "source": [
    "# Pour une belle mise en forme des graphiques\n",
    "sns.set(style=\"whitegrid\")\n",
    "plt.rcParams[\"figure.figsize\"] = (10, 5)\n",
    "\n",
    "# 1. Colonnes catégorielles\n",
    "cat_cols = df.select_dtypes(include=['object', 'category']).columns\n",
    "print(\"🎯 Colonnes catégorielles :\", list(cat_cols))\n",
    "\n",
    "# 2. Affichage des valeurs uniques et graphiques barres\n",
    "for col in cat_cols:\n",
    "    print(f\"\\n🔸 {col} - Top catégories\")\n",
    "    print(df[col].value_counts().head(10))\n",
    "    "
   ]
  }
 ],
 "metadata": {
  "kernelspec": {
   "display_name": "Python 3",
   "language": "python",
   "name": "python3"
  },
  "language_info": {
   "codemirror_mode": {
    "name": "ipython",
    "version": 3
   },
   "file_extension": ".py",
   "mimetype": "text/x-python",
   "name": "python",
   "nbconvert_exporter": "python",
   "pygments_lexer": "ipython3",
   "version": "3.10.11"
  }
 },
 "nbformat": 4,
 "nbformat_minor": 2
}
