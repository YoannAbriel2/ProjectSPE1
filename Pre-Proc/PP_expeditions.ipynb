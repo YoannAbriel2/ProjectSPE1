{
 "cells": [
  {
   "cell_type": "code",
   "execution_count": 7,
   "metadata": {},
   "outputs": [],
   "source": [
    "import numpy as np\n",
    "import pandas as pd\n",
    "import matplotlib.pyplot as plt\n",
    "import seaborn as sns"
   ]
  },
  {
   "cell_type": "markdown",
   "metadata": {},
   "source": [
    "Expedition Pré proc"
   ]
  },
  {
   "cell_type": "code",
   "execution_count": 8,
   "metadata": {},
   "outputs": [
    {
     "name": "stdout",
     "output_type": "stream",
     "text": [
      "Aperçu du fichier :\n"
     ]
    },
    {
     "data": {
      "text/html": [
       "<div>\n",
       "<style scoped>\n",
       "    .dataframe tbody tr th:only-of-type {\n",
       "        vertical-align: middle;\n",
       "    }\n",
       "\n",
       "    .dataframe tbody tr th {\n",
       "        vertical-align: top;\n",
       "    }\n",
       "\n",
       "    .dataframe thead th {\n",
       "        text-align: right;\n",
       "    }\n",
       "</style>\n",
       "<table border=\"1\" class=\"dataframe\">\n",
       "  <thead>\n",
       "    <tr style=\"text-align: right;\">\n",
       "      <th></th>\n",
       "      <th>id_expedition;id_commande;id_produit;quantite;entrepot;date_expedition;date_livraison;transporteur;cout_transport</th>\n",
       "    </tr>\n",
       "  </thead>\n",
       "  <tbody>\n",
       "    <tr>\n",
       "      <th>0</th>\n",
       "      <td>SHP000001;O000001;P00527;6;Marseille;25/07/202...</td>\n",
       "    </tr>\n",
       "    <tr>\n",
       "      <th>1</th>\n",
       "      <td>SHP000002;O000002;P00336;5;Lyon;22/02/2024;27/...</td>\n",
       "    </tr>\n",
       "    <tr>\n",
       "      <th>2</th>\n",
       "      <td>SHP000003;O000004;P00887;8;Lyon;30/08/2024;31/...</td>\n",
       "    </tr>\n",
       "    <tr>\n",
       "      <th>3</th>\n",
       "      <td>SHP000004;O000006;P00810;6;Paris;03/06/2024;06...</td>\n",
       "    </tr>\n",
       "    <tr>\n",
       "      <th>4</th>\n",
       "      <td>SHP000005;O000007;P00154;4;Lyon;03/10/2024;09/...</td>\n",
       "    </tr>\n",
       "  </tbody>\n",
       "</table>\n",
       "</div>"
      ],
      "text/plain": [
       "  id_expedition;id_commande;id_produit;quantite;entrepot;date_expedition;date_livraison;transporteur;cout_transport\n",
       "0  SHP000001;O000001;P00527;6;Marseille;25/07/202...                                                               \n",
       "1  SHP000002;O000002;P00336;5;Lyon;22/02/2024;27/...                                                               \n",
       "2  SHP000003;O000004;P00887;8;Lyon;30/08/2024;31/...                                                               \n",
       "3  SHP000004;O000006;P00810;6;Paris;03/06/2024;06...                                                               \n",
       "4  SHP000005;O000007;P00154;4;Lyon;03/10/2024;09/...                                                               "
      ]
     },
     "metadata": {},
     "output_type": "display_data"
    },
    {
     "name": "stdout",
     "output_type": "stream",
     "text": [
      "\n",
      "Infos sur les colonnes :\n",
      "<class 'pandas.core.frame.DataFrame'>\n",
      "RangeIndex: 42404 entries, 0 to 42403\n",
      "Data columns (total 1 columns):\n",
      " #   Column                                                                                                             Non-Null Count  Dtype \n",
      "---  ------                                                                                                             --------------  ----- \n",
      " 0   id_expedition;id_commande;id_produit;quantite;entrepot;date_expedition;date_livraison;transporteur;cout_transport  42404 non-null  object\n",
      "dtypes: object(1)\n",
      "memory usage: 331.4+ KB\n"
     ]
    },
    {
     "data": {
      "text/plain": [
       "None"
      ]
     },
     "metadata": {},
     "output_type": "display_data"
    },
    {
     "name": "stdout",
     "output_type": "stream",
     "text": [
      "\n",
      "Valeurs manquantes par colonne :\n"
     ]
    },
    {
     "data": {
      "text/plain": [
       "id_expedition;id_commande;id_produit;quantite;entrepot;date_expedition;date_livraison;transporteur;cout_transport    0\n",
       "dtype: int64"
      ]
     },
     "metadata": {},
     "output_type": "display_data"
    },
    {
     "name": "stdout",
     "output_type": "stream",
     "text": [
      "\n",
      "Aperçu après nettoyage :\n"
     ]
    },
    {
     "name": "stderr",
     "output_type": "stream",
     "text": [
      "C:\\Users\\Jules\\AppData\\Local\\Temp\\ipykernel_1120\\3086742500.py:26: FutureWarning: A value is trying to be set on a copy of a DataFrame or Series through chained assignment using an inplace method.\n",
      "The behavior will change in pandas 3.0. This inplace method will never work because the intermediate object on which we are setting values always behaves as a copy.\n",
      "\n",
      "For example, when doing 'df[col].method(value, inplace=True)', try using 'df.method({col: value}, inplace=True)' or df[col] = df[col].method(value) instead, to perform the operation inplace on the original object.\n",
      "\n",
      "\n",
      "  df[col].fillna(df[col].mode()[0], inplace=True)\n"
     ]
    },
    {
     "data": {
      "text/html": [
       "<div>\n",
       "<style scoped>\n",
       "    .dataframe tbody tr th:only-of-type {\n",
       "        vertical-align: middle;\n",
       "    }\n",
       "\n",
       "    .dataframe tbody tr th {\n",
       "        vertical-align: top;\n",
       "    }\n",
       "\n",
       "    .dataframe thead th {\n",
       "        text-align: right;\n",
       "    }\n",
       "</style>\n",
       "<table border=\"1\" class=\"dataframe\">\n",
       "  <thead>\n",
       "    <tr style=\"text-align: right;\">\n",
       "      <th></th>\n",
       "      <th>id_expedition;id_commande;id_produit;quantite;entrepot;date_expedition;date_livraison;transporteur;cout_transport</th>\n",
       "    </tr>\n",
       "  </thead>\n",
       "  <tbody>\n",
       "    <tr>\n",
       "      <th>0</th>\n",
       "      <td>SHP000001;O000001;P00527;6;Marseille;25/07/202...</td>\n",
       "    </tr>\n",
       "    <tr>\n",
       "      <th>1</th>\n",
       "      <td>SHP000002;O000002;P00336;5;Lyon;22/02/2024;27/...</td>\n",
       "    </tr>\n",
       "    <tr>\n",
       "      <th>2</th>\n",
       "      <td>SHP000003;O000004;P00887;8;Lyon;30/08/2024;31/...</td>\n",
       "    </tr>\n",
       "    <tr>\n",
       "      <th>3</th>\n",
       "      <td>SHP000004;O000006;P00810;6;Paris;03/06/2024;06...</td>\n",
       "    </tr>\n",
       "    <tr>\n",
       "      <th>4</th>\n",
       "      <td>SHP000005;O000007;P00154;4;Lyon;03/10/2024;09/...</td>\n",
       "    </tr>\n",
       "  </tbody>\n",
       "</table>\n",
       "</div>"
      ],
      "text/plain": [
       "  id_expedition;id_commande;id_produit;quantite;entrepot;date_expedition;date_livraison;transporteur;cout_transport\n",
       "0  SHP000001;O000001;P00527;6;Marseille;25/07/202...                                                               \n",
       "1  SHP000002;O000002;P00336;5;Lyon;22/02/2024;27/...                                                               \n",
       "2  SHP000003;O000004;P00887;8;Lyon;30/08/2024;31/...                                                               \n",
       "3  SHP000004;O000006;P00810;6;Paris;03/06/2024;06...                                                               \n",
       "4  SHP000005;O000007;P00154;4;Lyon;03/10/2024;09/...                                                               "
      ]
     },
     "metadata": {},
     "output_type": "display_data"
    }
   ],
   "source": [
    "# 1. Chargement du fichier\n",
    "df = pd.read_csv('../RAW_data/expeditions.csv')\n",
    "\n",
    "# 2. Aperçu des premières lignes\n",
    "print(\"Aperçu du fichier :\")\n",
    "display(df.head())\n",
    "\n",
    "# 3. Infos générales (types, NaNs...)\n",
    "print(\"\\nInfos sur les colonnes :\")\n",
    "display(df.info())\n",
    "\n",
    "# 4. Suppression des doublons\n",
    "df = df.drop_duplicates()\n",
    "\n",
    "# 5. Affichage des valeurs manquantes par colonne\n",
    "print(\"\\nValeurs manquantes par colonne :\")\n",
    "display(df.isnull().sum())\n",
    "\n",
    "# 6. Suppression ou remplissage des valeurs manquantes\n",
    "# Exemple : on remplit les colonnes numériques avec la moyenne\n",
    "for col in df.select_dtypes(include='number').columns:\n",
    "    df[col].fillna(df[col].mean(), inplace=True)\n",
    "\n",
    "# Exemple : on remplit les colonnes catégorielles avec la valeur la plus fréquente\n",
    "for col in df.select_dtypes(include='object').columns:\n",
    "    df[col].fillna(df[col].mode()[0], inplace=True)\n",
    "\n",
    "# 7. Vérification du nettoyage\n",
    "print(\"\\nAperçu après nettoyage :\")\n",
    "display(df.head())\n",
    "\n"
   ]
  },
  {
   "cell_type": "markdown",
   "metadata": {},
   "source": [
    "Détection des valeurs aberrantes avec la méthode de l'Intervalle inter quartiles"
   ]
  },
  {
   "cell_type": "code",
   "execution_count": 9,
   "metadata": {},
   "outputs": [
    {
     "name": "stdout",
     "output_type": "stream",
     "text": [
      "✅ Aucune valeur aberrante détectée dans les colonnes numériques.\n"
     ]
    }
   ],
   "source": [
    "\n",
    "outliers = {}\n",
    "\n",
    "for col in df.select_dtypes(include='number').columns:\n",
    "    Q1 = df[col].quantile(0.25)\n",
    "    Q3 = df[col].quantile(0.75)\n",
    "    IQR = Q3 - Q1\n",
    "    lower_bound = Q1 - 1.5 * IQR\n",
    "    upper_bound = Q3 + 1.5 * IQR\n",
    "\n",
    "    # On garde les lignes considérées comme aberrantes\n",
    "    mask_outliers = (df[col] < lower_bound) | (df[col] > upper_bound)\n",
    "    outliers_count = mask_outliers.sum()\n",
    "    \n",
    "    if outliers_count > 0:\n",
    "        outliers[col] = df[mask_outliers]\n",
    "\n",
    "# Affichage des résultats\n",
    "if outliers:\n",
    "    for col, data in outliers.items():\n",
    "        print(f\"\\nValeurs aberrantes détectées dans la colonne '{col}' ({len(data)} valeurs) :\")\n",
    "        display(data[[col]])\n",
    "else:\n",
    "    print(\"✅ Aucune valeur aberrante détectée dans les colonnes numériques.\")\n"
   ]
  },
  {
   "cell_type": "code",
   "execution_count": 10,
   "metadata": {},
   "outputs": [
    {
     "name": "stdout",
     "output_type": "stream",
     "text": [
      "Nombre de lignes dupliquées : 0\n",
      "✅ Aucun doublon détecté.\n"
     ]
    }
   ],
   "source": [
    "# Vérifie s'il y a des doublons (lignes identiques)\n",
    "duplicated_rows = df[df.duplicated()]\n",
    "\n",
    "# Affiche le nombre de doublons\n",
    "print(f\"Nombre de lignes dupliquées : {duplicated_rows.shape[0]}\")\n",
    "\n",
    "# Affiche les lignes dupliquées si elles existent\n",
    "if not duplicated_rows.empty:\n",
    "    print(\"Voici les doublons :\")\n",
    "    display(duplicated_rows)\n",
    "else:\n",
    "    print(\"✅ Aucun doublon détecté.\")"
   ]
  },
  {
   "cell_type": "code",
   "execution_count": 11,
   "metadata": {},
   "outputs": [
    {
     "name": "stdout",
     "output_type": "stream",
     "text": [
      "Colonnes catégorielles :\n",
      "['id_expedition;id_commande;id_produit;quantite;entrepot;date_expedition;date_livraison;transporteur;cout_transport']\n",
      "\n",
      "Valeurs uniques par colonne catégorielle :\n",
      "\n",
      "--- id_expedition;id_commande;id_produit;quantite;entrepot;date_expedition;date_livraison;transporteur;cout_transport ---\n",
      "id_expedition;id_commande;id_produit;quantite;entrepot;date_expedition;date_livraison;transporteur;cout_transport\n",
      "SHP042404;O050000;P00445;6;Lyon;02/08/2024;05/08/2024;DHL;10.37           1\n",
      "SHP000001;O000001;P00527;6;Marseille;25/07/2024;29/07/2024;FedEx;33.08    1\n",
      "SHP000002;O000002;P00336;5;Lyon;22/02/2024;27/02/2024;UPS;5.41            1\n",
      "SHP000003;O000004;P00887;8;Lyon;30/08/2024;31/08/2024;FedEx;38.47         1\n",
      "SHP042388;O049984;P00247;5;Lyon;27/06/2024;29/06/2024;FedEx;29.71         1\n",
      "                                                                         ..\n",
      "SHP000009;O000012;P00448;9;Lyon;12/12/2024;18/12/2024;UPS;5.68            1\n",
      "SHP000008;O000011;P00919;3;Lyon;28/07/2024;02/08/2024;DHL;38.99           1\n",
      "SHP000007;O000009;P00253;8;Lyon;04/08/2024;05/08/2024;DHL;32.59           1\n",
      "SHP000006;O000008;P00817;9;Lyon;07/04/2024;09/04/2024;DHL;48.77           1\n",
      "SHP000005;O000007;P00154;4;Lyon;03/10/2024;09/10/2024;DHL;22.82           1\n",
      "Name: count, Length: 42404, dtype: int64\n",
      "------------------------------\n"
     ]
    }
   ],
   "source": [
    "# 1. Affiche les colonnes catégorielles (object ou category)\n",
    "cat_cols = df.select_dtypes(include=['object', 'category']).columns\n",
    "print(\"Colonnes catégorielles :\")\n",
    "print(list(cat_cols))\n",
    "\n",
    "# 2. Affiche les valeurs uniques pour chaque colonne catégorielle\n",
    "print(\"\\nValeurs uniques par colonne catégorielle :\")\n",
    "for col in cat_cols:\n",
    "    print(f\"\\n--- {col} ---\")\n",
    "    print(df[col].value_counts())\n",
    "    print(\"-\" * 30)"
   ]
  },
  {
   "cell_type": "code",
   "execution_count": 12,
   "metadata": {},
   "outputs": [
    {
     "name": "stdout",
     "output_type": "stream",
     "text": [
      "🎯 Colonnes catégorielles : ['id_expedition;id_commande;id_produit;quantite;entrepot;date_expedition;date_livraison;transporteur;cout_transport']\n",
      "\n",
      "🔸 id_expedition;id_commande;id_produit;quantite;entrepot;date_expedition;date_livraison;transporteur;cout_transport - Top catégories\n",
      "id_expedition;id_commande;id_produit;quantite;entrepot;date_expedition;date_livraison;transporteur;cout_transport\n",
      "SHP042404;O050000;P00445;6;Lyon;02/08/2024;05/08/2024;DHL;10.37           1\n",
      "SHP000001;O000001;P00527;6;Marseille;25/07/2024;29/07/2024;FedEx;33.08    1\n",
      "SHP000002;O000002;P00336;5;Lyon;22/02/2024;27/02/2024;UPS;5.41            1\n",
      "SHP000003;O000004;P00887;8;Lyon;30/08/2024;31/08/2024;FedEx;38.47         1\n",
      "SHP042388;O049984;P00247;5;Lyon;27/06/2024;29/06/2024;FedEx;29.71         1\n",
      "SHP042387;O049983;P00186;5;Lyon;26/03/2024;29/03/2024;FedEx;26.15         1\n",
      "SHP042386;O049982;P00040;3;Lyon;18/05/2024;20/05/2024;UPS;8.29            1\n",
      "SHP042385;O049981;P00312;7;Paris;12/05/2024;18/05/2024;UPS;20.01          1\n",
      "SHP042384;O049979;P00395;6;Paris;26/03/2024;27/03/2024;FedEx;9.12         1\n",
      "SHP042383;O049978;P00266;2;Paris;20/08/2024;23/08/2024;DHL;12.92          1\n",
      "Name: count, dtype: int64\n"
     ]
    }
   ],
   "source": [
    "# Pour une belle mise en forme des graphiques\n",
    "sns.set(style=\"whitegrid\")\n",
    "plt.rcParams[\"figure.figsize\"] = (10, 5)\n",
    "\n",
    "# 1. Colonnes catégorielles\n",
    "cat_cols = df.select_dtypes(include=['object', 'category']).columns\n",
    "print(\"🎯 Colonnes catégorielles :\", list(cat_cols))\n",
    "\n",
    "# 2. Affichage des valeurs uniques et graphiques barres\n",
    "for col in cat_cols:\n",
    "    print(f\"\\n🔸 {col} - Top catégories\")\n",
    "    print(df[col].value_counts().head(10))\n",
    "    "
   ]
  }
 ],
 "metadata": {
  "kernelspec": {
   "display_name": "Python 3",
   "language": "python",
   "name": "python3"
  },
  "language_info": {
   "codemirror_mode": {
    "name": "ipython",
    "version": 3
   },
   "file_extension": ".py",
   "mimetype": "text/x-python",
   "name": "python",
   "nbconvert_exporter": "python",
   "pygments_lexer": "ipython3",
   "version": "3.10.11"
  }
 },
 "nbformat": 4,
 "nbformat_minor": 2
}
