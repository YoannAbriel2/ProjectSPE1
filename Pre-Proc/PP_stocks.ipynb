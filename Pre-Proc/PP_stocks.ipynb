{
 "cells": [
  {
   "cell_type": "code",
   "execution_count": 11,
   "metadata": {},
   "outputs": [],
   "source": [
    "import numpy as np\n",
    "import pandas as pd\n",
    "import matplotlib.pyplot as plt\n",
    "import seaborn as sns"
   ]
  },
  {
   "cell_type": "markdown",
   "metadata": {},
   "source": [
    "Détection des valeurs aberrantes avec la méthode de l'Intervalle inter quartiles"
   ]
  },
  {
   "cell_type": "code",
   "execution_count": 12,
   "metadata": {},
   "outputs": [
    {
     "name": "stdout",
     "output_type": "stream",
     "text": [
      "Aperçu du fichier :\n"
     ]
    },
    {
     "data": {
      "text/html": [
       "<div>\n",
       "<style scoped>\n",
       "    .dataframe tbody tr th:only-of-type {\n",
       "        vertical-align: middle;\n",
       "    }\n",
       "\n",
       "    .dataframe tbody tr th {\n",
       "        vertical-align: top;\n",
       "    }\n",
       "\n",
       "    .dataframe thead th {\n",
       "        text-align: right;\n",
       "    }\n",
       "</style>\n",
       "<table border=\"1\" class=\"dataframe\">\n",
       "  <thead>\n",
       "    <tr style=\"text-align: right;\">\n",
       "      <th></th>\n",
       "      <th>id_produit;catégorie;marque;prix;stock_minimum</th>\n",
       "    </tr>\n",
       "  </thead>\n",
       "  <tbody>\n",
       "    <tr>\n",
       "      <th>0</th>\n",
       "      <td>P00001;Soins capillaires;Luxe Éclat;467.42;52</td>\n",
       "    </tr>\n",
       "    <tr>\n",
       "      <th>1</th>\n",
       "      <td>P00002;Accessoires;Maison Pure;291.26;10</td>\n",
       "    </tr>\n",
       "    <tr>\n",
       "      <th>2</th>\n",
       "      <td>P00003;Maquillage;Essentielle Paris;354.39;60</td>\n",
       "    </tr>\n",
       "    <tr>\n",
       "      <th>3</th>\n",
       "      <td>P00004;Accessoires;Reflet d’Or;462.8;33</td>\n",
       "    </tr>\n",
       "    <tr>\n",
       "      <th>4</th>\n",
       "      <td>P00005;Accessoires;Élixir Haute Beauté;359.47;33</td>\n",
       "    </tr>\n",
       "  </tbody>\n",
       "</table>\n",
       "</div>"
      ],
      "text/plain": [
       "     id_produit;catégorie;marque;prix;stock_minimum\n",
       "0     P00001;Soins capillaires;Luxe Éclat;467.42;52\n",
       "1          P00002;Accessoires;Maison Pure;291.26;10\n",
       "2     P00003;Maquillage;Essentielle Paris;354.39;60\n",
       "3           P00004;Accessoires;Reflet d’Or;462.8;33\n",
       "4  P00005;Accessoires;Élixir Haute Beauté;359.47;33"
      ]
     },
     "metadata": {},
     "output_type": "display_data"
    },
    {
     "name": "stdout",
     "output_type": "stream",
     "text": [
      "\n",
      "Infos sur les colonnes :\n",
      "<class 'pandas.core.frame.DataFrame'>\n",
      "RangeIndex: 1000 entries, 0 to 999\n",
      "Data columns (total 1 columns):\n",
      " #   Column                                          Non-Null Count  Dtype \n",
      "---  ------                                          --------------  ----- \n",
      " 0   id_produit;catégorie;marque;prix;stock_minimum  1000 non-null   object\n",
      "dtypes: object(1)\n",
      "memory usage: 7.9+ KB\n"
     ]
    },
    {
     "data": {
      "text/plain": [
       "None"
      ]
     },
     "metadata": {},
     "output_type": "display_data"
    },
    {
     "name": "stdout",
     "output_type": "stream",
     "text": [
      "\n",
      "Valeurs manquantes par colonne :\n"
     ]
    },
    {
     "data": {
      "text/plain": [
       "id_produit;catégorie;marque;prix;stock_minimum    0\n",
       "dtype: int64"
      ]
     },
     "metadata": {},
     "output_type": "display_data"
    },
    {
     "name": "stdout",
     "output_type": "stream",
     "text": [
      "\n",
      "Aperçu après nettoyage :\n"
     ]
    },
    {
     "name": "stderr",
     "output_type": "stream",
     "text": [
      "C:\\Users\\Jules\\AppData\\Local\\Temp\\ipykernel_4964\\141607680.py:26: FutureWarning: A value is trying to be set on a copy of a DataFrame or Series through chained assignment using an inplace method.\n",
      "The behavior will change in pandas 3.0. This inplace method will never work because the intermediate object on which we are setting values always behaves as a copy.\n",
      "\n",
      "For example, when doing 'df[col].method(value, inplace=True)', try using 'df.method({col: value}, inplace=True)' or df[col] = df[col].method(value) instead, to perform the operation inplace on the original object.\n",
      "\n",
      "\n",
      "  df[col].fillna(df[col].mode()[0], inplace=True)\n"
     ]
    },
    {
     "data": {
      "text/html": [
       "<div>\n",
       "<style scoped>\n",
       "    .dataframe tbody tr th:only-of-type {\n",
       "        vertical-align: middle;\n",
       "    }\n",
       "\n",
       "    .dataframe tbody tr th {\n",
       "        vertical-align: top;\n",
       "    }\n",
       "\n",
       "    .dataframe thead th {\n",
       "        text-align: right;\n",
       "    }\n",
       "</style>\n",
       "<table border=\"1\" class=\"dataframe\">\n",
       "  <thead>\n",
       "    <tr style=\"text-align: right;\">\n",
       "      <th></th>\n",
       "      <th>id_produit;catégorie;marque;prix;stock_minimum</th>\n",
       "    </tr>\n",
       "  </thead>\n",
       "  <tbody>\n",
       "    <tr>\n",
       "      <th>0</th>\n",
       "      <td>P00001;Soins capillaires;Luxe Éclat;467.42;52</td>\n",
       "    </tr>\n",
       "    <tr>\n",
       "      <th>1</th>\n",
       "      <td>P00002;Accessoires;Maison Pure;291.26;10</td>\n",
       "    </tr>\n",
       "    <tr>\n",
       "      <th>2</th>\n",
       "      <td>P00003;Maquillage;Essentielle Paris;354.39;60</td>\n",
       "    </tr>\n",
       "    <tr>\n",
       "      <th>3</th>\n",
       "      <td>P00004;Accessoires;Reflet d’Or;462.8;33</td>\n",
       "    </tr>\n",
       "    <tr>\n",
       "      <th>4</th>\n",
       "      <td>P00005;Accessoires;Élixir Haute Beauté;359.47;33</td>\n",
       "    </tr>\n",
       "  </tbody>\n",
       "</table>\n",
       "</div>"
      ],
      "text/plain": [
       "     id_produit;catégorie;marque;prix;stock_minimum\n",
       "0     P00001;Soins capillaires;Luxe Éclat;467.42;52\n",
       "1          P00002;Accessoires;Maison Pure;291.26;10\n",
       "2     P00003;Maquillage;Essentielle Paris;354.39;60\n",
       "3           P00004;Accessoires;Reflet d’Or;462.8;33\n",
       "4  P00005;Accessoires;Élixir Haute Beauté;359.47;33"
      ]
     },
     "metadata": {},
     "output_type": "display_data"
    }
   ],
   "source": [
    "# 1. Chargement du fichier\n",
    "df = pd.read_csv('../RAW_data/produits.csv')\n",
    "\n",
    "# 2. Aperçu des premières lignes\n",
    "print(\"Aperçu du fichier :\")\n",
    "display(df.head())\n",
    "\n",
    "# 3. Infos générales (types, NaNs...)\n",
    "print(\"\\nInfos sur les colonnes :\")\n",
    "display(df.info())\n",
    "\n",
    "# 4. Suppression des doublons\n",
    "df = df.drop_duplicates()\n",
    "\n",
    "# 5. Affichage des valeurs manquantes par colonne\n",
    "print(\"\\nValeurs manquantes par colonne :\")\n",
    "display(df.isnull().sum())\n",
    "\n",
    "# 6. Suppression ou remplissage des valeurs manquantes\n",
    "# Exemple : on remplit les colonnes numériques avec la moyenne\n",
    "for col in df.select_dtypes(include='number').columns:\n",
    "    df[col].fillna(df[col].mean(), inplace=True)\n",
    "\n",
    "# Exemple : on remplit les colonnes catégorielles avec la valeur la plus fréquente\n",
    "for col in df.select_dtypes(include='object').columns:\n",
    "    df[col].fillna(df[col].mode()[0], inplace=True)\n",
    "\n",
    "# 7. Vérification du nettoyage\n",
    "print(\"\\nAperçu après nettoyage :\")\n",
    "display(df.head())\n",
    "\n"
   ]
  },
  {
   "cell_type": "code",
   "execution_count": 13,
   "metadata": {},
   "outputs": [
    {
     "name": "stdout",
     "output_type": "stream",
     "text": [
      "✅ Aucune valeur aberrante détectée dans les colonnes numériques.\n"
     ]
    }
   ],
   "source": [
    "\n",
    "outliers = {}\n",
    "\n",
    "for col in df.select_dtypes(include='number').columns:\n",
    "    Q1 = df[col].quantile(0.25)\n",
    "    Q3 = df[col].quantile(0.75)\n",
    "    IQR = Q3 - Q1\n",
    "    lower_bound = Q1 - 1.5 * IQR\n",
    "    upper_bound = Q3 + 1.5 * IQR\n",
    "\n",
    "    # On garde les lignes considérées comme aberrantes\n",
    "    mask_outliers = (df[col] < lower_bound) | (df[col] > upper_bound)\n",
    "    outliers_count = mask_outliers.sum()\n",
    "    \n",
    "    if outliers_count > 0:\n",
    "        outliers[col] = df[mask_outliers]\n",
    "\n",
    "# Affichage des résultats\n",
    "if outliers:\n",
    "    for col, data in outliers.items():\n",
    "        print(f\"\\nValeurs aberrantes détectées dans la colonne '{col}' ({len(data)} valeurs) :\")\n",
    "        display(data[[col]])\n",
    "else:\n",
    "    print(\"✅ Aucune valeur aberrante détectée dans les colonnes numériques.\")\n"
   ]
  },
  {
   "cell_type": "code",
   "execution_count": 14,
   "metadata": {},
   "outputs": [
    {
     "name": "stdout",
     "output_type": "stream",
     "text": [
      "Nombre de lignes dupliquées : 0\n",
      "✅ Aucun doublon détecté.\n"
     ]
    }
   ],
   "source": [
    "# Vérifie s'il y a des doublons (lignes identiques)\n",
    "duplicated_rows = df[df.duplicated()]\n",
    "\n",
    "# Affiche le nombre de doublons\n",
    "print(f\"Nombre de lignes dupliquées : {duplicated_rows.shape[0]}\")\n",
    "\n",
    "# Affiche les lignes dupliquées si elles existent\n",
    "if not duplicated_rows.empty:\n",
    "    print(\"Voici les doublons :\")\n",
    "    display(duplicated_rows)\n",
    "else:\n",
    "    print(\"✅ Aucun doublon détecté.\")"
   ]
  },
  {
   "cell_type": "code",
   "execution_count": 15,
   "metadata": {},
   "outputs": [
    {
     "name": "stdout",
     "output_type": "stream",
     "text": [
      "Colonnes catégorielles :\n",
      "['id_produit;catégorie;marque;prix;stock_minimum']\n",
      "\n",
      "Valeurs uniques par colonne catégorielle :\n",
      "\n",
      "--- id_produit;catégorie;marque;prix;stock_minimum ---\n",
      "id_produit;catégorie;marque;prix;stock_minimum\n",
      "P01000;Maquillage;Héritage Sensuel;60.7;31          1\n",
      "P00001;Soins capillaires;Luxe Éclat;467.42;52       1\n",
      "P00002;Accessoires;Maison Pure;291.26;10            1\n",
      "P00003;Maquillage;Essentielle Paris;354.39;60       1\n",
      "P00004;Accessoires;Reflet d’Or;462.8;33             1\n",
      "                                                   ..\n",
      "P00013;Accessoires;Essentielle Paris;236.4;61       1\n",
      "P00012;Maquillage;Maison Pure;464.27;20             1\n",
      "P00011;Soins capillaires;Luxe Éclat;468.5;40        1\n",
      "P00010;Accessoires;Élixir Haute Beauté;373.49;67    1\n",
      "P00009;Maquillage;Reflet d’Or;223.58;30             1\n",
      "Name: count, Length: 1000, dtype: int64\n",
      "------------------------------\n"
     ]
    }
   ],
   "source": [
    "# 1. Affiche les colonnes catégorielles (object ou category)\n",
    "cat_cols = df.select_dtypes(include=['object', 'category']).columns\n",
    "print(\"Colonnes catégorielles :\")\n",
    "print(list(cat_cols))\n",
    "\n",
    "# 2. Affiche les valeurs uniques pour chaque colonne catégorielle\n",
    "print(\"\\nValeurs uniques par colonne catégorielle :\")\n",
    "for col in cat_cols:\n",
    "    print(f\"\\n--- {col} ---\")\n",
    "    print(df[col].value_counts())\n",
    "    print(\"-\" * 30)"
   ]
  },
  {
   "cell_type": "code",
   "execution_count": 16,
   "metadata": {},
   "outputs": [
    {
     "name": "stdout",
     "output_type": "stream",
     "text": [
      "🎯 Colonnes catégorielles : ['id_produit;catégorie;marque;prix;stock_minimum']\n",
      "\n",
      "🔸 id_produit;catégorie;marque;prix;stock_minimum - Top catégories\n",
      "id_produit;catégorie;marque;prix;stock_minimum\n",
      "P01000;Maquillage;Héritage Sensuel;60.7;31          1\n",
      "P00001;Soins capillaires;Luxe Éclat;467.42;52       1\n",
      "P00002;Accessoires;Maison Pure;291.26;10            1\n",
      "P00003;Maquillage;Essentielle Paris;354.39;60       1\n",
      "P00004;Accessoires;Reflet d’Or;462.8;33             1\n",
      "P00005;Accessoires;Élixir Haute Beauté;359.47;33    1\n",
      "P00006;Parfums;Luxe Éclat;93.22;26                  1\n",
      "P00007;Maquillage;Maison Pure;296.62;14             1\n",
      "P00984;Parfums;Ligne Lumière;423.62;81              1\n",
      "P00983;Soins capillaires;Épure d'Azur;142.24;82     1\n",
      "Name: count, dtype: int64\n"
     ]
    }
   ],
   "source": [
    "# Pour une belle mise en forme des graphiques\n",
    "sns.set(style=\"whitegrid\")\n",
    "plt.rcParams[\"figure.figsize\"] = (10, 5)\n",
    "\n",
    "# 1. Colonnes catégorielles\n",
    "cat_cols = df.select_dtypes(include=['object', 'category']).columns\n",
    "print(\"🎯 Colonnes catégorielles :\", list(cat_cols))\n",
    "\n",
    "# 2. Affichage des valeurs uniques et graphiques barres\n",
    "for col in cat_cols:\n",
    "    print(f\"\\n🔸 {col} - Top catégories\")\n",
    "    print(df[col].value_counts().head(10))\n",
    "    "
   ]
  }
 ],
 "metadata": {
  "kernelspec": {
   "display_name": "Python 3",
   "language": "python",
   "name": "python3"
  },
  "language_info": {
   "codemirror_mode": {
    "name": "ipython",
    "version": 3
   },
   "file_extension": ".py",
   "mimetype": "text/x-python",
   "name": "python",
   "nbconvert_exporter": "python",
   "pygments_lexer": "ipython3",
   "version": "3.10.11"
  }
 },
 "nbformat": 4,
 "nbformat_minor": 2
}
